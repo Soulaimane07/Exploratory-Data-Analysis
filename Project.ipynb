{
 "cells": [
  {
   "cell_type": "markdown",
   "metadata": {},
   "source": [
    "<h1>Analyse Exploratoire des Données</h1> "
   ]
  },
  {
   "cell_type": "markdown",
   "metadata": {},
   "source": [
    "<h4> Les membres de projet : </h4>\n",
    "<ul>\n",
    "<li>Ouhmida Soulaimane </li>\n",
    "<li>Takkadoumi Hamza </li>\n",
    "<li>Targui Hajar </li>\n",
    "<li>Kelladi Fatimezzahra </li>\n",
    "</ul>"
   ]
  }
 ],
 "metadata": {
  "language_info": {
   "name": "python"
  }
 },
 "nbformat": 4,
 "nbformat_minor": 2
}
